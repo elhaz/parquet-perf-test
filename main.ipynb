{
 "cells": [
  {
   "cell_type": "code",
   "execution_count": 1,
   "metadata": {},
   "outputs": [],
   "source": [
    "# csv 를 읽고 parquet 로 변환하는 코드\n",
    "from faker import Faker\n",
    "from pathlib import Path\n",
    "import pandas as pd\n",
    "import pyarrow as pa\n",
    "import pyarrow.parquet as pq\n",
    "\n",
    "fake = Faker('ko_KR') # locale 정보 설정\n",
    "Faker.seed()"
   ]
  },
  {
   "cell_type": "code",
   "execution_count": 118,
   "metadata": {},
   "outputs": [
    {
     "data": {
      "text/plain": [
       "'생성소요시간: 0 days 00:00:50.479110'"
      ]
     },
     "metadata": {},
     "output_type": "display_data"
    }
   ],
   "source": [
    "# 100만건 데이터 생성\n",
    "# 생성에 걸린시간 측정\n",
    "gen_begin = pd.Timestamp.now()\n",
    "curr_time = 3600 * 4\n",
    "repeat = curr_time\n",
    "sensor_count = 2000\n",
    "data = {\n",
    "    'name': [fake.name() for _ in range(repeat)],\n",
    "    'address': [fake.address() for _ in range(repeat)],\n",
    "    'email': [fake.email() for _ in range(repeat)],\n",
    "    'job': [fake.job() for _ in range(repeat)],\n",
    "    'company': [fake.company() for _ in range(repeat)],\n",
    "    'ssn': [fake.ssn() for _ in range(repeat)],\n",
    "    'residence': [fake.city() for _ in range(repeat)],\n",
    "    'current_location': [fake.city() for _ in range(repeat)],\n",
    "    'blood_group': [fake.random_element(elements=('A', 'B', 'AB', 'O')) for _ in range(repeat)],\n",
    "    'website': [fake.url() for _ in range(repeat)],\n",
    "    'username': [fake.user_name() for _ in range(repeat)],\n",
    "    'phone_number': [fake.phone_number() for _ in range(repeat)],\n",
    "    'company_email': [fake.company_email() for _ in range(repeat)],\n",
    "    'favorite_color': [fake.color_name() for _ in range(repeat)],\n",
    "    'uuid': [fake.uuid4() for _ in range(repeat)],\n",
    "}\n",
    "# 센서 데이터 추가\n",
    "for s in range(1, sensor_count+1):\n",
    "    data[f'sensor{s}'] = [fake.random_int(min=0, max=100) for _ in range(repeat)]\n",
    "gen_curtime = pd.Timestamp.now() - gen_begin"
   ]
  },
  {
   "cell_type": "code",
   "execution_count": 121,
   "metadata": {},
   "outputs": [
    {
     "data": {
      "text/plain": [
       "'생성소요시간: 50.47911초'"
      ]
     },
     "metadata": {},
     "output_type": "display_data"
    },
    {
     "data": {
      "text/plain": [
       "'생성 데이터 column 갯수 : 2015개'"
      ]
     },
     "metadata": {},
     "output_type": "display_data"
    },
    {
     "data": {
      "text/plain": [
       "'생성 데이터 row 갯수 : 14400개'"
      ]
     },
     "metadata": {},
     "output_type": "display_data"
    },
    {
     "data": {
      "text/plain": [
       "'임의 센서 데이터 column 갯수 : 2000개'"
      ]
     },
     "metadata": {},
     "output_type": "display_data"
    }
   ],
   "source": [
    "display(f\"생성소요시간: {gen_curtime.total_seconds()}초\")\n",
    "display(f'생성 데이터 column 갯수 : {len(data)}개')\n",
    "display(f'생성 데이터 row 갯수 : {len(data[\"name\"])}개')\n",
    "display(f'임의 센서 데이터 column 갯수 : {sensor_count}개')"
   ]
  },
  {
   "cell_type": "code",
   "execution_count": 125,
   "metadata": {},
   "outputs": [
    {
     "data": {
      "text/plain": [
       "dict_keys(['name', 'address', 'email', 'job', 'company', 'ssn', 'residence', 'current_location', 'blood_group', 'website', 'username', 'phone_number', 'company_email', 'favorite_color', 'uuid', 'sensor1', 'sensor2', 'sensor3', 'sensor4', 'sensor5', 'sensor6', 'sensor7', 'sensor8', 'sensor9', 'sensor10', 'sensor11', 'sensor12', 'sensor13', 'sensor14', 'sensor15', 'sensor16', 'sensor17', 'sensor18', 'sensor19', 'sensor20', 'sensor21', 'sensor22', 'sensor23', 'sensor24', 'sensor25', 'sensor26', 'sensor27', 'sensor28', 'sensor29', 'sensor30', 'sensor31', 'sensor32', 'sensor33', 'sensor34', 'sensor35', 'sensor36', 'sensor37', 'sensor38', 'sensor39', 'sensor40', 'sensor41', 'sensor42', 'sensor43', 'sensor44', 'sensor45', 'sensor46', 'sensor47', 'sensor48', 'sensor49', 'sensor50', 'sensor51', 'sensor52', 'sensor53', 'sensor54', 'sensor55', 'sensor56', 'sensor57', 'sensor58', 'sensor59', 'sensor60', 'sensor61', 'sensor62', 'sensor63', 'sensor64', 'sensor65', 'sensor66', 'sensor67', 'sensor68', 'sensor69', 'sensor70', 'sensor71', 'sensor72', 'sensor73', 'sensor74', 'sensor75', 'sensor76', 'sensor77', 'sensor78', 'sensor79', 'sensor80', 'sensor81', 'sensor82', 'sensor83', 'sensor84', 'sensor85', 'sensor86', 'sensor87', 'sensor88', 'sensor89', 'sensor90', 'sensor91', 'sensor92', 'sensor93', 'sensor94', 'sensor95', 'sensor96', 'sensor97', 'sensor98', 'sensor99', 'sensor100', 'sensor101', 'sensor102', 'sensor103', 'sensor104', 'sensor105', 'sensor106', 'sensor107', 'sensor108', 'sensor109', 'sensor110', 'sensor111', 'sensor112', 'sensor113', 'sensor114', 'sensor115', 'sensor116', 'sensor117', 'sensor118', 'sensor119', 'sensor120', 'sensor121', 'sensor122', 'sensor123', 'sensor124', 'sensor125', 'sensor126', 'sensor127', 'sensor128', 'sensor129', 'sensor130', 'sensor131', 'sensor132', 'sensor133', 'sensor134', 'sensor135', 'sensor136', 'sensor137', 'sensor138', 'sensor139', 'sensor140', 'sensor141', 'sensor142', 'sensor143', 'sensor144', 'sensor145', 'sensor146', 'sensor147', 'sensor148', 'sensor149', 'sensor150', 'sensor151', 'sensor152', 'sensor153', 'sensor154', 'sensor155', 'sensor156', 'sensor157', 'sensor158', 'sensor159', 'sensor160', 'sensor161', 'sensor162', 'sensor163', 'sensor164', 'sensor165', 'sensor166', 'sensor167', 'sensor168', 'sensor169', 'sensor170', 'sensor171', 'sensor172', 'sensor173', 'sensor174', 'sensor175', 'sensor176', 'sensor177', 'sensor178', 'sensor179', 'sensor180', 'sensor181', 'sensor182', 'sensor183', 'sensor184', 'sensor185', 'sensor186', 'sensor187', 'sensor188', 'sensor189', 'sensor190', 'sensor191', 'sensor192', 'sensor193', 'sensor194', 'sensor195', 'sensor196', 'sensor197', 'sensor198', 'sensor199', 'sensor200', 'sensor201', 'sensor202', 'sensor203', 'sensor204', 'sensor205', 'sensor206', 'sensor207', 'sensor208', 'sensor209', 'sensor210', 'sensor211', 'sensor212', 'sensor213', 'sensor214', 'sensor215', 'sensor216', 'sensor217', 'sensor218', 'sensor219', 'sensor220', 'sensor221', 'sensor222', 'sensor223', 'sensor224', 'sensor225', 'sensor226', 'sensor227', 'sensor228', 'sensor229', 'sensor230', 'sensor231', 'sensor232', 'sensor233', 'sensor234', 'sensor235', 'sensor236', 'sensor237', 'sensor238', 'sensor239', 'sensor240', 'sensor241', 'sensor242', 'sensor243', 'sensor244', 'sensor245', 'sensor246', 'sensor247', 'sensor248', 'sensor249', 'sensor250', 'sensor251', 'sensor252', 'sensor253', 'sensor254', 'sensor255', 'sensor256', 'sensor257', 'sensor258', 'sensor259', 'sensor260', 'sensor261', 'sensor262', 'sensor263', 'sensor264', 'sensor265', 'sensor266', 'sensor267', 'sensor268', 'sensor269', 'sensor270', 'sensor271', 'sensor272', 'sensor273', 'sensor274', 'sensor275', 'sensor276', 'sensor277', 'sensor278', 'sensor279', 'sensor280', 'sensor281', 'sensor282', 'sensor283', 'sensor284', 'sensor285', 'sensor286', 'sensor287', 'sensor288', 'sensor289', 'sensor290', 'sensor291', 'sensor292', 'sensor293', 'sensor294', 'sensor295', 'sensor296', 'sensor297', 'sensor298', 'sensor299', 'sensor300', 'sensor301', 'sensor302', 'sensor303', 'sensor304', 'sensor305', 'sensor306', 'sensor307', 'sensor308', 'sensor309', 'sensor310', 'sensor311', 'sensor312', 'sensor313', 'sensor314', 'sensor315', 'sensor316', 'sensor317', 'sensor318', 'sensor319', 'sensor320', 'sensor321', 'sensor322', 'sensor323', 'sensor324', 'sensor325', 'sensor326', 'sensor327', 'sensor328', 'sensor329', 'sensor330', 'sensor331', 'sensor332', 'sensor333', 'sensor334', 'sensor335', 'sensor336', 'sensor337', 'sensor338', 'sensor339', 'sensor340', 'sensor341', 'sensor342', 'sensor343', 'sensor344', 'sensor345', 'sensor346', 'sensor347', 'sensor348', 'sensor349', 'sensor350', 'sensor351', 'sensor352', 'sensor353', 'sensor354', 'sensor355', 'sensor356', 'sensor357', 'sensor358', 'sensor359', 'sensor360', 'sensor361', 'sensor362', 'sensor363', 'sensor364', 'sensor365', 'sensor366', 'sensor367', 'sensor368', 'sensor369', 'sensor370', 'sensor371', 'sensor372', 'sensor373', 'sensor374', 'sensor375', 'sensor376', 'sensor377', 'sensor378', 'sensor379', 'sensor380', 'sensor381', 'sensor382', 'sensor383', 'sensor384', 'sensor385', 'sensor386', 'sensor387', 'sensor388', 'sensor389', 'sensor390', 'sensor391', 'sensor392', 'sensor393', 'sensor394', 'sensor395', 'sensor396', 'sensor397', 'sensor398', 'sensor399', 'sensor400', 'sensor401', 'sensor402', 'sensor403', 'sensor404', 'sensor405', 'sensor406', 'sensor407', 'sensor408', 'sensor409', 'sensor410', 'sensor411', 'sensor412', 'sensor413', 'sensor414', 'sensor415', 'sensor416', 'sensor417', 'sensor418', 'sensor419', 'sensor420', 'sensor421', 'sensor422', 'sensor423', 'sensor424', 'sensor425', 'sensor426', 'sensor427', 'sensor428', 'sensor429', 'sensor430', 'sensor431', 'sensor432', 'sensor433', 'sensor434', 'sensor435', 'sensor436', 'sensor437', 'sensor438', 'sensor439', 'sensor440', 'sensor441', 'sensor442', 'sensor443', 'sensor444', 'sensor445', 'sensor446', 'sensor447', 'sensor448', 'sensor449', 'sensor450', 'sensor451', 'sensor452', 'sensor453', 'sensor454', 'sensor455', 'sensor456', 'sensor457', 'sensor458', 'sensor459', 'sensor460', 'sensor461', 'sensor462', 'sensor463', 'sensor464', 'sensor465', 'sensor466', 'sensor467', 'sensor468', 'sensor469', 'sensor470', 'sensor471', 'sensor472', 'sensor473', 'sensor474', 'sensor475', 'sensor476', 'sensor477', 'sensor478', 'sensor479', 'sensor480', 'sensor481', 'sensor482', 'sensor483', 'sensor484', 'sensor485', 'sensor486', 'sensor487', 'sensor488', 'sensor489', 'sensor490', 'sensor491', 'sensor492', 'sensor493', 'sensor494', 'sensor495', 'sensor496', 'sensor497', 'sensor498', 'sensor499', 'sensor500', 'sensor501', 'sensor502', 'sensor503', 'sensor504', 'sensor505', 'sensor506', 'sensor507', 'sensor508', 'sensor509', 'sensor510', 'sensor511', 'sensor512', 'sensor513', 'sensor514', 'sensor515', 'sensor516', 'sensor517', 'sensor518', 'sensor519', 'sensor520', 'sensor521', 'sensor522', 'sensor523', 'sensor524', 'sensor525', 'sensor526', 'sensor527', 'sensor528', 'sensor529', 'sensor530', 'sensor531', 'sensor532', 'sensor533', 'sensor534', 'sensor535', 'sensor536', 'sensor537', 'sensor538', 'sensor539', 'sensor540', 'sensor541', 'sensor542', 'sensor543', 'sensor544', 'sensor545', 'sensor546', 'sensor547', 'sensor548', 'sensor549', 'sensor550', 'sensor551', 'sensor552', 'sensor553', 'sensor554', 'sensor555', 'sensor556', 'sensor557', 'sensor558', 'sensor559', 'sensor560', 'sensor561', 'sensor562', 'sensor563', 'sensor564', 'sensor565', 'sensor566', 'sensor567', 'sensor568', 'sensor569', 'sensor570', 'sensor571', 'sensor572', 'sensor573', 'sensor574', 'sensor575', 'sensor576', 'sensor577', 'sensor578', 'sensor579', 'sensor580', 'sensor581', 'sensor582', 'sensor583', 'sensor584', 'sensor585', 'sensor586', 'sensor587', 'sensor588', 'sensor589', 'sensor590', 'sensor591', 'sensor592', 'sensor593', 'sensor594', 'sensor595', 'sensor596', 'sensor597', 'sensor598', 'sensor599', 'sensor600', 'sensor601', 'sensor602', 'sensor603', 'sensor604', 'sensor605', 'sensor606', 'sensor607', 'sensor608', 'sensor609', 'sensor610', 'sensor611', 'sensor612', 'sensor613', 'sensor614', 'sensor615', 'sensor616', 'sensor617', 'sensor618', 'sensor619', 'sensor620', 'sensor621', 'sensor622', 'sensor623', 'sensor624', 'sensor625', 'sensor626', 'sensor627', 'sensor628', 'sensor629', 'sensor630', 'sensor631', 'sensor632', 'sensor633', 'sensor634', 'sensor635', 'sensor636', 'sensor637', 'sensor638', 'sensor639', 'sensor640', 'sensor641', 'sensor642', 'sensor643', 'sensor644', 'sensor645', 'sensor646', 'sensor647', 'sensor648', 'sensor649', 'sensor650', 'sensor651', 'sensor652', 'sensor653', 'sensor654', 'sensor655', 'sensor656', 'sensor657', 'sensor658', 'sensor659', 'sensor660', 'sensor661', 'sensor662', 'sensor663', 'sensor664', 'sensor665', 'sensor666', 'sensor667', 'sensor668', 'sensor669', 'sensor670', 'sensor671', 'sensor672', 'sensor673', 'sensor674', 'sensor675', 'sensor676', 'sensor677', 'sensor678', 'sensor679', 'sensor680', 'sensor681', 'sensor682', 'sensor683', 'sensor684', 'sensor685', 'sensor686', 'sensor687', 'sensor688', 'sensor689', 'sensor690', 'sensor691', 'sensor692', 'sensor693', 'sensor694', 'sensor695', 'sensor696', 'sensor697', 'sensor698', 'sensor699', 'sensor700', 'sensor701', 'sensor702', 'sensor703', 'sensor704', 'sensor705', 'sensor706', 'sensor707', 'sensor708', 'sensor709', 'sensor710', 'sensor711', 'sensor712', 'sensor713', 'sensor714', 'sensor715', 'sensor716', 'sensor717', 'sensor718', 'sensor719', 'sensor720', 'sensor721', 'sensor722', 'sensor723', 'sensor724', 'sensor725', 'sensor726', 'sensor727', 'sensor728', 'sensor729', 'sensor730', 'sensor731', 'sensor732', 'sensor733', 'sensor734', 'sensor735', 'sensor736', 'sensor737', 'sensor738', 'sensor739', 'sensor740', 'sensor741', 'sensor742', 'sensor743', 'sensor744', 'sensor745', 'sensor746', 'sensor747', 'sensor748', 'sensor749', 'sensor750', 'sensor751', 'sensor752', 'sensor753', 'sensor754', 'sensor755', 'sensor756', 'sensor757', 'sensor758', 'sensor759', 'sensor760', 'sensor761', 'sensor762', 'sensor763', 'sensor764', 'sensor765', 'sensor766', 'sensor767', 'sensor768', 'sensor769', 'sensor770', 'sensor771', 'sensor772', 'sensor773', 'sensor774', 'sensor775', 'sensor776', 'sensor777', 'sensor778', 'sensor779', 'sensor780', 'sensor781', 'sensor782', 'sensor783', 'sensor784', 'sensor785', 'sensor786', 'sensor787', 'sensor788', 'sensor789', 'sensor790', 'sensor791', 'sensor792', 'sensor793', 'sensor794', 'sensor795', 'sensor796', 'sensor797', 'sensor798', 'sensor799', 'sensor800', 'sensor801', 'sensor802', 'sensor803', 'sensor804', 'sensor805', 'sensor806', 'sensor807', 'sensor808', 'sensor809', 'sensor810', 'sensor811', 'sensor812', 'sensor813', 'sensor814', 'sensor815', 'sensor816', 'sensor817', 'sensor818', 'sensor819', 'sensor820', 'sensor821', 'sensor822', 'sensor823', 'sensor824', 'sensor825', 'sensor826', 'sensor827', 'sensor828', 'sensor829', 'sensor830', 'sensor831', 'sensor832', 'sensor833', 'sensor834', 'sensor835', 'sensor836', 'sensor837', 'sensor838', 'sensor839', 'sensor840', 'sensor841', 'sensor842', 'sensor843', 'sensor844', 'sensor845', 'sensor846', 'sensor847', 'sensor848', 'sensor849', 'sensor850', 'sensor851', 'sensor852', 'sensor853', 'sensor854', 'sensor855', 'sensor856', 'sensor857', 'sensor858', 'sensor859', 'sensor860', 'sensor861', 'sensor862', 'sensor863', 'sensor864', 'sensor865', 'sensor866', 'sensor867', 'sensor868', 'sensor869', 'sensor870', 'sensor871', 'sensor872', 'sensor873', 'sensor874', 'sensor875', 'sensor876', 'sensor877', 'sensor878', 'sensor879', 'sensor880', 'sensor881', 'sensor882', 'sensor883', 'sensor884', 'sensor885', 'sensor886', 'sensor887', 'sensor888', 'sensor889', 'sensor890', 'sensor891', 'sensor892', 'sensor893', 'sensor894', 'sensor895', 'sensor896', 'sensor897', 'sensor898', 'sensor899', 'sensor900', 'sensor901', 'sensor902', 'sensor903', 'sensor904', 'sensor905', 'sensor906', 'sensor907', 'sensor908', 'sensor909', 'sensor910', 'sensor911', 'sensor912', 'sensor913', 'sensor914', 'sensor915', 'sensor916', 'sensor917', 'sensor918', 'sensor919', 'sensor920', 'sensor921', 'sensor922', 'sensor923', 'sensor924', 'sensor925', 'sensor926', 'sensor927', 'sensor928', 'sensor929', 'sensor930', 'sensor931', 'sensor932', 'sensor933', 'sensor934', 'sensor935', 'sensor936', 'sensor937', 'sensor938', 'sensor939', 'sensor940', 'sensor941', 'sensor942', 'sensor943', 'sensor944', 'sensor945', 'sensor946', 'sensor947', 'sensor948', 'sensor949', 'sensor950', 'sensor951', 'sensor952', 'sensor953', 'sensor954', 'sensor955', 'sensor956', 'sensor957', 'sensor958', 'sensor959', 'sensor960', 'sensor961', 'sensor962', 'sensor963', 'sensor964', 'sensor965', 'sensor966', 'sensor967', 'sensor968', 'sensor969', 'sensor970', 'sensor971', 'sensor972', 'sensor973', 'sensor974', 'sensor975', 'sensor976', 'sensor977', 'sensor978', 'sensor979', 'sensor980', 'sensor981', 'sensor982', 'sensor983', 'sensor984', 'sensor985', 'sensor986', 'sensor987', 'sensor988', 'sensor989', 'sensor990', 'sensor991', 'sensor992', 'sensor993', 'sensor994', 'sensor995', 'sensor996', 'sensor997', 'sensor998', 'sensor999', 'sensor1000', 'sensor1001', 'sensor1002', 'sensor1003', 'sensor1004', 'sensor1005', 'sensor1006', 'sensor1007', 'sensor1008', 'sensor1009', 'sensor1010', 'sensor1011', 'sensor1012', 'sensor1013', 'sensor1014', 'sensor1015', 'sensor1016', 'sensor1017', 'sensor1018', 'sensor1019', 'sensor1020', 'sensor1021', 'sensor1022', 'sensor1023', 'sensor1024', 'sensor1025', 'sensor1026', 'sensor1027', 'sensor1028', 'sensor1029', 'sensor1030', 'sensor1031', 'sensor1032', 'sensor1033', 'sensor1034', 'sensor1035', 'sensor1036', 'sensor1037', 'sensor1038', 'sensor1039', 'sensor1040', 'sensor1041', 'sensor1042', 'sensor1043', 'sensor1044', 'sensor1045', 'sensor1046', 'sensor1047', 'sensor1048', 'sensor1049', 'sensor1050', 'sensor1051', 'sensor1052', 'sensor1053', 'sensor1054', 'sensor1055', 'sensor1056', 'sensor1057', 'sensor1058', 'sensor1059', 'sensor1060', 'sensor1061', 'sensor1062', 'sensor1063', 'sensor1064', 'sensor1065', 'sensor1066', 'sensor1067', 'sensor1068', 'sensor1069', 'sensor1070', 'sensor1071', 'sensor1072', 'sensor1073', 'sensor1074', 'sensor1075', 'sensor1076', 'sensor1077', 'sensor1078', 'sensor1079', 'sensor1080', 'sensor1081', 'sensor1082', 'sensor1083', 'sensor1084', 'sensor1085', 'sensor1086', 'sensor1087', 'sensor1088', 'sensor1089', 'sensor1090', 'sensor1091', 'sensor1092', 'sensor1093', 'sensor1094', 'sensor1095', 'sensor1096', 'sensor1097', 'sensor1098', 'sensor1099', 'sensor1100', 'sensor1101', 'sensor1102', 'sensor1103', 'sensor1104', 'sensor1105', 'sensor1106', 'sensor1107', 'sensor1108', 'sensor1109', 'sensor1110', 'sensor1111', 'sensor1112', 'sensor1113', 'sensor1114', 'sensor1115', 'sensor1116', 'sensor1117', 'sensor1118', 'sensor1119', 'sensor1120', 'sensor1121', 'sensor1122', 'sensor1123', 'sensor1124', 'sensor1125', 'sensor1126', 'sensor1127', 'sensor1128', 'sensor1129', 'sensor1130', 'sensor1131', 'sensor1132', 'sensor1133', 'sensor1134', 'sensor1135', 'sensor1136', 'sensor1137', 'sensor1138', 'sensor1139', 'sensor1140', 'sensor1141', 'sensor1142', 'sensor1143', 'sensor1144', 'sensor1145', 'sensor1146', 'sensor1147', 'sensor1148', 'sensor1149', 'sensor1150', 'sensor1151', 'sensor1152', 'sensor1153', 'sensor1154', 'sensor1155', 'sensor1156', 'sensor1157', 'sensor1158', 'sensor1159', 'sensor1160', 'sensor1161', 'sensor1162', 'sensor1163', 'sensor1164', 'sensor1165', 'sensor1166', 'sensor1167', 'sensor1168', 'sensor1169', 'sensor1170', 'sensor1171', 'sensor1172', 'sensor1173', 'sensor1174', 'sensor1175', 'sensor1176', 'sensor1177', 'sensor1178', 'sensor1179', 'sensor1180', 'sensor1181', 'sensor1182', 'sensor1183', 'sensor1184', 'sensor1185', 'sensor1186', 'sensor1187', 'sensor1188', 'sensor1189', 'sensor1190', 'sensor1191', 'sensor1192', 'sensor1193', 'sensor1194', 'sensor1195', 'sensor1196', 'sensor1197', 'sensor1198', 'sensor1199', 'sensor1200', 'sensor1201', 'sensor1202', 'sensor1203', 'sensor1204', 'sensor1205', 'sensor1206', 'sensor1207', 'sensor1208', 'sensor1209', 'sensor1210', 'sensor1211', 'sensor1212', 'sensor1213', 'sensor1214', 'sensor1215', 'sensor1216', 'sensor1217', 'sensor1218', 'sensor1219', 'sensor1220', 'sensor1221', 'sensor1222', 'sensor1223', 'sensor1224', 'sensor1225', 'sensor1226', 'sensor1227', 'sensor1228', 'sensor1229', 'sensor1230', 'sensor1231', 'sensor1232', 'sensor1233', 'sensor1234', 'sensor1235', 'sensor1236', 'sensor1237', 'sensor1238', 'sensor1239', 'sensor1240', 'sensor1241', 'sensor1242', 'sensor1243', 'sensor1244', 'sensor1245', 'sensor1246', 'sensor1247', 'sensor1248', 'sensor1249', 'sensor1250', 'sensor1251', 'sensor1252', 'sensor1253', 'sensor1254', 'sensor1255', 'sensor1256', 'sensor1257', 'sensor1258', 'sensor1259', 'sensor1260', 'sensor1261', 'sensor1262', 'sensor1263', 'sensor1264', 'sensor1265', 'sensor1266', 'sensor1267', 'sensor1268', 'sensor1269', 'sensor1270', 'sensor1271', 'sensor1272', 'sensor1273', 'sensor1274', 'sensor1275', 'sensor1276', 'sensor1277', 'sensor1278', 'sensor1279', 'sensor1280', 'sensor1281', 'sensor1282', 'sensor1283', 'sensor1284', 'sensor1285', 'sensor1286', 'sensor1287', 'sensor1288', 'sensor1289', 'sensor1290', 'sensor1291', 'sensor1292', 'sensor1293', 'sensor1294', 'sensor1295', 'sensor1296', 'sensor1297', 'sensor1298', 'sensor1299', 'sensor1300', 'sensor1301', 'sensor1302', 'sensor1303', 'sensor1304', 'sensor1305', 'sensor1306', 'sensor1307', 'sensor1308', 'sensor1309', 'sensor1310', 'sensor1311', 'sensor1312', 'sensor1313', 'sensor1314', 'sensor1315', 'sensor1316', 'sensor1317', 'sensor1318', 'sensor1319', 'sensor1320', 'sensor1321', 'sensor1322', 'sensor1323', 'sensor1324', 'sensor1325', 'sensor1326', 'sensor1327', 'sensor1328', 'sensor1329', 'sensor1330', 'sensor1331', 'sensor1332', 'sensor1333', 'sensor1334', 'sensor1335', 'sensor1336', 'sensor1337', 'sensor1338', 'sensor1339', 'sensor1340', 'sensor1341', 'sensor1342', 'sensor1343', 'sensor1344', 'sensor1345', 'sensor1346', 'sensor1347', 'sensor1348', 'sensor1349', 'sensor1350', 'sensor1351', 'sensor1352', 'sensor1353', 'sensor1354', 'sensor1355', 'sensor1356', 'sensor1357', 'sensor1358', 'sensor1359', 'sensor1360', 'sensor1361', 'sensor1362', 'sensor1363', 'sensor1364', 'sensor1365', 'sensor1366', 'sensor1367', 'sensor1368', 'sensor1369', 'sensor1370', 'sensor1371', 'sensor1372', 'sensor1373', 'sensor1374', 'sensor1375', 'sensor1376', 'sensor1377', 'sensor1378', 'sensor1379', 'sensor1380', 'sensor1381', 'sensor1382', 'sensor1383', 'sensor1384', 'sensor1385', 'sensor1386', 'sensor1387', 'sensor1388', 'sensor1389', 'sensor1390', 'sensor1391', 'sensor1392', 'sensor1393', 'sensor1394', 'sensor1395', 'sensor1396', 'sensor1397', 'sensor1398', 'sensor1399', 'sensor1400', 'sensor1401', 'sensor1402', 'sensor1403', 'sensor1404', 'sensor1405', 'sensor1406', 'sensor1407', 'sensor1408', 'sensor1409', 'sensor1410', 'sensor1411', 'sensor1412', 'sensor1413', 'sensor1414', 'sensor1415', 'sensor1416', 'sensor1417', 'sensor1418', 'sensor1419', 'sensor1420', 'sensor1421', 'sensor1422', 'sensor1423', 'sensor1424', 'sensor1425', 'sensor1426', 'sensor1427', 'sensor1428', 'sensor1429', 'sensor1430', 'sensor1431', 'sensor1432', 'sensor1433', 'sensor1434', 'sensor1435', 'sensor1436', 'sensor1437', 'sensor1438', 'sensor1439', 'sensor1440', 'sensor1441', 'sensor1442', 'sensor1443', 'sensor1444', 'sensor1445', 'sensor1446', 'sensor1447', 'sensor1448', 'sensor1449', 'sensor1450', 'sensor1451', 'sensor1452', 'sensor1453', 'sensor1454', 'sensor1455', 'sensor1456', 'sensor1457', 'sensor1458', 'sensor1459', 'sensor1460', 'sensor1461', 'sensor1462', 'sensor1463', 'sensor1464', 'sensor1465', 'sensor1466', 'sensor1467', 'sensor1468', 'sensor1469', 'sensor1470', 'sensor1471', 'sensor1472', 'sensor1473', 'sensor1474', 'sensor1475', 'sensor1476', 'sensor1477', 'sensor1478', 'sensor1479', 'sensor1480', 'sensor1481', 'sensor1482', 'sensor1483', 'sensor1484', 'sensor1485', 'sensor1486', 'sensor1487', 'sensor1488', 'sensor1489', 'sensor1490', 'sensor1491', 'sensor1492', 'sensor1493', 'sensor1494', 'sensor1495', 'sensor1496', 'sensor1497', 'sensor1498', 'sensor1499', 'sensor1500', 'sensor1501', 'sensor1502', 'sensor1503', 'sensor1504', 'sensor1505', 'sensor1506', 'sensor1507', 'sensor1508', 'sensor1509', 'sensor1510', 'sensor1511', 'sensor1512', 'sensor1513', 'sensor1514', 'sensor1515', 'sensor1516', 'sensor1517', 'sensor1518', 'sensor1519', 'sensor1520', 'sensor1521', 'sensor1522', 'sensor1523', 'sensor1524', 'sensor1525', 'sensor1526', 'sensor1527', 'sensor1528', 'sensor1529', 'sensor1530', 'sensor1531', 'sensor1532', 'sensor1533', 'sensor1534', 'sensor1535', 'sensor1536', 'sensor1537', 'sensor1538', 'sensor1539', 'sensor1540', 'sensor1541', 'sensor1542', 'sensor1543', 'sensor1544', 'sensor1545', 'sensor1546', 'sensor1547', 'sensor1548', 'sensor1549', 'sensor1550', 'sensor1551', 'sensor1552', 'sensor1553', 'sensor1554', 'sensor1555', 'sensor1556', 'sensor1557', 'sensor1558', 'sensor1559', 'sensor1560', 'sensor1561', 'sensor1562', 'sensor1563', 'sensor1564', 'sensor1565', 'sensor1566', 'sensor1567', 'sensor1568', 'sensor1569', 'sensor1570', 'sensor1571', 'sensor1572', 'sensor1573', 'sensor1574', 'sensor1575', 'sensor1576', 'sensor1577', 'sensor1578', 'sensor1579', 'sensor1580', 'sensor1581', 'sensor1582', 'sensor1583', 'sensor1584', 'sensor1585', 'sensor1586', 'sensor1587', 'sensor1588', 'sensor1589', 'sensor1590', 'sensor1591', 'sensor1592', 'sensor1593', 'sensor1594', 'sensor1595', 'sensor1596', 'sensor1597', 'sensor1598', 'sensor1599', 'sensor1600', 'sensor1601', 'sensor1602', 'sensor1603', 'sensor1604', 'sensor1605', 'sensor1606', 'sensor1607', 'sensor1608', 'sensor1609', 'sensor1610', 'sensor1611', 'sensor1612', 'sensor1613', 'sensor1614', 'sensor1615', 'sensor1616', 'sensor1617', 'sensor1618', 'sensor1619', 'sensor1620', 'sensor1621', 'sensor1622', 'sensor1623', 'sensor1624', 'sensor1625', 'sensor1626', 'sensor1627', 'sensor1628', 'sensor1629', 'sensor1630', 'sensor1631', 'sensor1632', 'sensor1633', 'sensor1634', 'sensor1635', 'sensor1636', 'sensor1637', 'sensor1638', 'sensor1639', 'sensor1640', 'sensor1641', 'sensor1642', 'sensor1643', 'sensor1644', 'sensor1645', 'sensor1646', 'sensor1647', 'sensor1648', 'sensor1649', 'sensor1650', 'sensor1651', 'sensor1652', 'sensor1653', 'sensor1654', 'sensor1655', 'sensor1656', 'sensor1657', 'sensor1658', 'sensor1659', 'sensor1660', 'sensor1661', 'sensor1662', 'sensor1663', 'sensor1664', 'sensor1665', 'sensor1666', 'sensor1667', 'sensor1668', 'sensor1669', 'sensor1670', 'sensor1671', 'sensor1672', 'sensor1673', 'sensor1674', 'sensor1675', 'sensor1676', 'sensor1677', 'sensor1678', 'sensor1679', 'sensor1680', 'sensor1681', 'sensor1682', 'sensor1683', 'sensor1684', 'sensor1685', 'sensor1686', 'sensor1687', 'sensor1688', 'sensor1689', 'sensor1690', 'sensor1691', 'sensor1692', 'sensor1693', 'sensor1694', 'sensor1695', 'sensor1696', 'sensor1697', 'sensor1698', 'sensor1699', 'sensor1700', 'sensor1701', 'sensor1702', 'sensor1703', 'sensor1704', 'sensor1705', 'sensor1706', 'sensor1707', 'sensor1708', 'sensor1709', 'sensor1710', 'sensor1711', 'sensor1712', 'sensor1713', 'sensor1714', 'sensor1715', 'sensor1716', 'sensor1717', 'sensor1718', 'sensor1719', 'sensor1720', 'sensor1721', 'sensor1722', 'sensor1723', 'sensor1724', 'sensor1725', 'sensor1726', 'sensor1727', 'sensor1728', 'sensor1729', 'sensor1730', 'sensor1731', 'sensor1732', 'sensor1733', 'sensor1734', 'sensor1735', 'sensor1736', 'sensor1737', 'sensor1738', 'sensor1739', 'sensor1740', 'sensor1741', 'sensor1742', 'sensor1743', 'sensor1744', 'sensor1745', 'sensor1746', 'sensor1747', 'sensor1748', 'sensor1749', 'sensor1750', 'sensor1751', 'sensor1752', 'sensor1753', 'sensor1754', 'sensor1755', 'sensor1756', 'sensor1757', 'sensor1758', 'sensor1759', 'sensor1760', 'sensor1761', 'sensor1762', 'sensor1763', 'sensor1764', 'sensor1765', 'sensor1766', 'sensor1767', 'sensor1768', 'sensor1769', 'sensor1770', 'sensor1771', 'sensor1772', 'sensor1773', 'sensor1774', 'sensor1775', 'sensor1776', 'sensor1777', 'sensor1778', 'sensor1779', 'sensor1780', 'sensor1781', 'sensor1782', 'sensor1783', 'sensor1784', 'sensor1785', 'sensor1786', 'sensor1787', 'sensor1788', 'sensor1789', 'sensor1790', 'sensor1791', 'sensor1792', 'sensor1793', 'sensor1794', 'sensor1795', 'sensor1796', 'sensor1797', 'sensor1798', 'sensor1799', 'sensor1800', 'sensor1801', 'sensor1802', 'sensor1803', 'sensor1804', 'sensor1805', 'sensor1806', 'sensor1807', 'sensor1808', 'sensor1809', 'sensor1810', 'sensor1811', 'sensor1812', 'sensor1813', 'sensor1814', 'sensor1815', 'sensor1816', 'sensor1817', 'sensor1818', 'sensor1819', 'sensor1820', 'sensor1821', 'sensor1822', 'sensor1823', 'sensor1824', 'sensor1825', 'sensor1826', 'sensor1827', 'sensor1828', 'sensor1829', 'sensor1830', 'sensor1831', 'sensor1832', 'sensor1833', 'sensor1834', 'sensor1835', 'sensor1836', 'sensor1837', 'sensor1838', 'sensor1839', 'sensor1840', 'sensor1841', 'sensor1842', 'sensor1843', 'sensor1844', 'sensor1845', 'sensor1846', 'sensor1847', 'sensor1848', 'sensor1849', 'sensor1850', 'sensor1851', 'sensor1852', 'sensor1853', 'sensor1854', 'sensor1855', 'sensor1856', 'sensor1857', 'sensor1858', 'sensor1859', 'sensor1860', 'sensor1861', 'sensor1862', 'sensor1863', 'sensor1864', 'sensor1865', 'sensor1866', 'sensor1867', 'sensor1868', 'sensor1869', 'sensor1870', 'sensor1871', 'sensor1872', 'sensor1873', 'sensor1874', 'sensor1875', 'sensor1876', 'sensor1877', 'sensor1878', 'sensor1879', 'sensor1880', 'sensor1881', 'sensor1882', 'sensor1883', 'sensor1884', 'sensor1885', 'sensor1886', 'sensor1887', 'sensor1888', 'sensor1889', 'sensor1890', 'sensor1891', 'sensor1892', 'sensor1893', 'sensor1894', 'sensor1895', 'sensor1896', 'sensor1897', 'sensor1898', 'sensor1899', 'sensor1900', 'sensor1901', 'sensor1902', 'sensor1903', 'sensor1904', 'sensor1905', 'sensor1906', 'sensor1907', 'sensor1908', 'sensor1909', 'sensor1910', 'sensor1911', 'sensor1912', 'sensor1913', 'sensor1914', 'sensor1915', 'sensor1916', 'sensor1917', 'sensor1918', 'sensor1919', 'sensor1920', 'sensor1921', 'sensor1922', 'sensor1923', 'sensor1924', 'sensor1925', 'sensor1926', 'sensor1927', 'sensor1928', 'sensor1929', 'sensor1930', 'sensor1931', 'sensor1932', 'sensor1933', 'sensor1934', 'sensor1935', 'sensor1936', 'sensor1937', 'sensor1938', 'sensor1939', 'sensor1940', 'sensor1941', 'sensor1942', 'sensor1943', 'sensor1944', 'sensor1945', 'sensor1946', 'sensor1947', 'sensor1948', 'sensor1949', 'sensor1950', 'sensor1951', 'sensor1952', 'sensor1953', 'sensor1954', 'sensor1955', 'sensor1956', 'sensor1957', 'sensor1958', 'sensor1959', 'sensor1960', 'sensor1961', 'sensor1962', 'sensor1963', 'sensor1964', 'sensor1965', 'sensor1966', 'sensor1967', 'sensor1968', 'sensor1969', 'sensor1970', 'sensor1971', 'sensor1972', 'sensor1973', 'sensor1974', 'sensor1975', 'sensor1976', 'sensor1977', 'sensor1978', 'sensor1979', 'sensor1980', 'sensor1981', 'sensor1982', 'sensor1983', 'sensor1984', 'sensor1985', 'sensor1986', 'sensor1987', 'sensor1988', 'sensor1989', 'sensor1990', 'sensor1991', 'sensor1992', 'sensor1993', 'sensor1994', 'sensor1995', 'sensor1996', 'sensor1997', 'sensor1998', 'sensor1999', 'sensor2000'])"
      ]
     },
     "metadata": {},
     "output_type": "display_data"
    }
   ],
   "source": [
    "display(data.keys())"
   ]
  },
  {
   "cell_type": "code",
   "execution_count": 90,
   "metadata": {},
   "outputs": [],
   "source": [
    "def timestamp2ms(timestamp)->str:\n",
    "    return str(int(timestamp.total_seconds() * 1000)) + ' ms'\n",
    "def byte2mb(byte)->float:\n",
    "    return str(round(byte / 1024 / 1024, 2)) + ' MB'"
   ]
  },
  {
   "cell_type": "code",
   "execution_count": 122,
   "metadata": {},
   "outputs": [],
   "source": [
    "# 테스트 할 항목\n",
    "# 1. csv 로 저장했을때 용량\n",
    "# 2. parquet 로 저장했을때 용량\n",
    "# 3. csv 파일을 읽는데 걸리는 시간\n",
    "# 4. parquet 파일을 읽는데 걸리는 시간\n",
    "# 5. csv 파일을 parquet 파일로 변환하는데 걸리는 시간\n",
    "# 6. parquet 파일을 csv 파일로 변환하는데 걸리는 시간\n",
    "# 7. csv 파일을 parquet 파일로 변환해서 저장하고, parquet 파일을 읽는데 걸리는 시간 (컬럼의 타입이 없는 경우 읽기속도에 차이가 나는지 확인하기 위함)\n",
    "# 8. csv 파일의 sensor 컬럼을 변환해서 저장하는데 걸리는 시간\n",
    "# 9. parquet 파일의 sensor 컬럼을 변환해서 저장하는데 걸리는 시간\n",
    "\n",
    "save_dir = Path('result')\n",
    "csv_fn = save_dir/'csv_data.csv'\n",
    "parquet_fn = save_dir/'parquet.parquet'\n",
    "cv_csv2parquet_fn = save_dir/'cv_csv2parquet.parquet'\n",
    "cv_parquet2csv_fn = save_dir/'cv_parquet2csv.csv'\n",
    "modi_csv_fn = save_dir/'modi_csv_data.csv'\n",
    "modi_parquet_fn = save_dir/'modi_parquet.parquet'\n",
    "\n",
    "\n",
    "# 1. dict 를 csv 로 저장\n",
    "csv_save_begin = pd.Timestamp.now()\n",
    "df = pd.DataFrame(data)\n",
    "df.to_csv(csv_fn, index=False)\n",
    "csv_save_end = pd.Timestamp.now()\n",
    "\n",
    "# 2. dict 를 parquet 로 저장\n",
    "parquet_save_begin = pd.Timestamp.now()\n",
    "table2 = pa.table(data)\n",
    "pq.write_table(table2, parquet_fn)\n",
    "parquet_save_end = pd.Timestamp.now()\n",
    "\n",
    "# 3. 저장된 csv 를 df 로 읽기\n",
    "csv_read_begin = pd.Timestamp.now()\n",
    "df = pd.read_csv(csv_fn)\n",
    "csv_read_end = pd.Timestamp.now()\n",
    "\n",
    "# 5. csv 를 읽은 df 를 parquet 로 변환하고 저장\n",
    "cv_csv2parquet_begin = pd.Timestamp.now()\n",
    "table2 = pa.table(df)\n",
    "pq.write_table(table2, cv_csv2parquet_fn)\n",
    "cv_csv2parquet_end = pd.Timestamp.now()\n",
    "\n",
    "# 4. 저장된 parquet 을 df 로 읽기\n",
    "parquet_read_begin = pd.Timestamp.now()\n",
    "table2 = pq.read_table(parquet_fn)\n",
    "df = table2.to_pandas()\n",
    "parquet_read_end = pd.Timestamp.now()\n",
    "\n",
    "# 6. parquet 을 읽은 df 를 csv 로 변환하고 저장\n",
    "cv_parquet2csv_begin = pd.Timestamp.now()\n",
    "df.to_csv(cv_parquet2csv_fn, index=False)\n",
    "cv_parquet2csv_end = pd.Timestamp.now()\n",
    "\n",
    "# 수정은 sensor 1~ 5 에 100을 나눠 0~1 사이의 값으로 변환\n",
    "# 7. csv 를 읽고, 수정한 후 csv 로 저장\n",
    "modi_csv_begin = pd.Timestamp.now()\n",
    "df = pd.read_csv(csv_fn)\n",
    "for s in range(1, sensor_count+1):\n",
    "    df[f'sensor{s}'] = df[f'sensor{s}'] / 100\n",
    "df.to_csv(modi_csv_fn, index=False)\n",
    "modi_csv_end = pd.Timestamp.now()\n",
    "\n",
    "# 8. parquet 을 읽고, 수정한 후 parquet 로 저장\n",
    "modi_pq_begin = pd.Timestamp.now()\n",
    "table2 = pq.read_table(parquet_fn)\n",
    "table2 = table2.to_pandas()\n",
    "for s in range(1, sensor_count+1):\n",
    "    table2[f'sensor{s}'] = table2[f'sensor{s}'] / 100\n",
    "\n",
    "pq.write_table(pa.table(table2), modi_parquet_fn)\n",
    "modi_pq_end = pd.Timestamp.now()"
   ]
  },
  {
   "cell_type": "code",
   "execution_count": 123,
   "metadata": {},
   "outputs": [
    {
     "data": {
      "text/plain": [
       "column     2015\n",
       "row       14400\n",
       "dtype: int64"
      ]
     },
     "metadata": {},
     "output_type": "display_data"
    },
    {
     "data": {
      "text/html": [
       "<div>\n",
       "<style scoped>\n",
       "    .dataframe tbody tr th:only-of-type {\n",
       "        vertical-align: middle;\n",
       "    }\n",
       "\n",
       "    .dataframe tbody tr th {\n",
       "        vertical-align: top;\n",
       "    }\n",
       "\n",
       "    .dataframe thead th {\n",
       "        text-align: right;\n",
       "    }\n",
       "</style>\n",
       "<table border=\"1\" class=\"dataframe\">\n",
       "  <thead>\n",
       "    <tr style=\"text-align: right;\">\n",
       "      <th></th>\n",
       "      <th>csv</th>\n",
       "      <th>parquet</th>\n",
       "      <th>diff</th>\n",
       "      <th>unit</th>\n",
       "      <th>ratio</th>\n",
       "    </tr>\n",
       "  </thead>\n",
       "  <tbody>\n",
       "    <tr>\n",
       "      <th>원본저장시간</th>\n",
       "      <td>6.92</td>\n",
       "      <td>1.51</td>\n",
       "      <td>5.41</td>\n",
       "      <td>ms</td>\n",
       "      <td>4.583</td>\n",
       "    </tr>\n",
       "    <tr>\n",
       "      <th>원본읽기시간</th>\n",
       "      <td>1.38</td>\n",
       "      <td>0.14</td>\n",
       "      <td>1.24</td>\n",
       "      <td>ms</td>\n",
       "      <td>9.857</td>\n",
       "    </tr>\n",
       "    <tr>\n",
       "      <th>변환저장시간</th>\n",
       "      <td>0.64</td>\n",
       "      <td>3.80</td>\n",
       "      <td>-3.16</td>\n",
       "      <td>ms</td>\n",
       "      <td>0.168</td>\n",
       "    </tr>\n",
       "    <tr>\n",
       "      <th>수정저장시간</th>\n",
       "      <td>22.30</td>\n",
       "      <td>1.37</td>\n",
       "      <td>20.93</td>\n",
       "      <td>ms</td>\n",
       "      <td>16.277</td>\n",
       "    </tr>\n",
       "    <tr>\n",
       "      <th>저장용량</th>\n",
       "      <td>83.73</td>\n",
       "      <td>27.41</td>\n",
       "      <td>56.32</td>\n",
       "      <td>MB</td>\n",
       "      <td>3.055</td>\n",
       "    </tr>\n",
       "    <tr>\n",
       "      <th>변환용량</th>\n",
       "      <td>27.93</td>\n",
       "      <td>83.73</td>\n",
       "      <td>-55.80</td>\n",
       "      <td>MB</td>\n",
       "      <td>0.334</td>\n",
       "    </tr>\n",
       "  </tbody>\n",
       "</table>\n",
       "</div>"
      ],
      "text/plain": [
       "          csv  parquet   diff unit   ratio\n",
       "원본저장시간   6.92     1.51   5.41   ms   4.583\n",
       "원본읽기시간   1.38     0.14   1.24   ms   9.857\n",
       "변환저장시간   0.64     3.80  -3.16   ms   0.168\n",
       "수정저장시간  22.30     1.37  20.93   ms  16.277\n",
       "저장용량    83.73    27.41  56.32   MB   3.055\n",
       "변환용량    27.93    83.73 -55.80   MB   0.334"
      ]
     },
     "metadata": {},
     "output_type": "display_data"
    }
   ],
   "source": [
    "info_table = pd.Series(data=[len(data.keys()),len(data[\"name\"]),], index=['column', 'row'])\n",
    "display(info_table)\n",
    "bench = {\n",
    "    'csv': {\n",
    "        '원본저장시간' : round((csv_save_end - csv_save_begin).total_seconds(), 2),\n",
    "        '원본읽기시간' : round((csv_read_end - csv_read_begin).total_seconds(), 2),\n",
    "        '변환저장시간' : round((cv_csv2parquet_end - cv_csv2parquet_begin).total_seconds(), 2),\n",
    "        '수정저장시간' : round((modi_csv_end - modi_csv_begin).total_seconds(), 2),\n",
    "        '저장용량' : round((csv_fn.stat().st_size / 1024 / 1024), 2),\n",
    "        '변환용량' : round((cv_csv2parquet_fn.stat().st_size / 1024 / 1024), 2),\n",
    "    },\n",
    "    'parquet': {\n",
    "        '원본저장시간' : round((parquet_save_end - parquet_save_begin).total_seconds(), 2),\n",
    "        '원본읽기시간' : round((parquet_read_end - parquet_read_begin).total_seconds(), 2),\n",
    "        '변환저장시간' : round((cv_parquet2csv_end - cv_parquet2csv_begin).total_seconds(), 2),\n",
    "        '수정저장시간' : round((modi_pq_end - modi_pq_begin).total_seconds(), 2),\n",
    "        '저장용량' : round((parquet_fn.stat().st_size / 1024 / 1024), 2),\n",
    "        '변환용량' : round((cv_parquet2csv_fn.stat().st_size / 1024 / 1024), 2),\n",
    "    }\n",
    "}\n",
    "bench_table = pd.DataFrame(bench)\n",
    "bench_table['diff'] = bench_table['csv'] - bench_table['parquet']\n",
    "bench_table['unit'] = ['ms', 'ms', 'ms', 'ms', 'MB', 'MB']\n",
    "bench_table['ratio'] = round(bench_table['csv'] / bench_table['parquet'], 3)\n",
    "\n",
    "display(bench_table)"
   ]
  },
  {
   "cell_type": "code",
   "execution_count": 11,
   "metadata": {},
   "outputs": [
    {
     "name": "stdout",
     "output_type": "stream",
     "text": [
      "csv 저장: 0.011 s\n"
     ]
    }
   ],
   "source": [
    "# xx.xxx s 으로 표시하도록 변경\n",
    "t = csv_save_end - csv_save_begin\n",
    "print(f'csv 저장: {t.total_seconds():.3f} s')\n"
   ]
  },
  {
   "cell_type": "code",
   "execution_count": 73,
   "metadata": {},
   "outputs": [
    {
     "data": {
      "text/html": [
       "<div>\n",
       "<style scoped>\n",
       "    .dataframe tbody tr th:only-of-type {\n",
       "        vertical-align: middle;\n",
       "    }\n",
       "\n",
       "    .dataframe tbody tr th {\n",
       "        vertical-align: top;\n",
       "    }\n",
       "\n",
       "    .dataframe thead th {\n",
       "        text-align: right;\n",
       "    }\n",
       "</style>\n",
       "<table border=\"1\" class=\"dataframe\">\n",
       "  <thead>\n",
       "    <tr style=\"text-align: right;\">\n",
       "      <th></th>\n",
       "      <th>csv</th>\n",
       "      <th>parquet</th>\n",
       "    </tr>\n",
       "  </thead>\n",
       "  <tbody>\n",
       "    <tr>\n",
       "      <th>저장</th>\n",
       "      <td>11 ms</td>\n",
       "      <td>6 ms</td>\n",
       "    </tr>\n",
       "    <tr>\n",
       "      <th>읽기</th>\n",
       "      <td>12 ms</td>\n",
       "      <td>5 ms</td>\n",
       "    </tr>\n",
       "    <tr>\n",
       "      <th>변환</th>\n",
       "      <td>6 ms</td>\n",
       "      <td>9 ms</td>\n",
       "    </tr>\n",
       "  </tbody>\n",
       "</table>\n",
       "</div>"
      ],
      "text/plain": [
       "      csv parquet\n",
       "저장  11 ms    6 ms\n",
       "읽기  12 ms    5 ms\n",
       "변환   6 ms    9 ms"
      ]
     },
     "execution_count": 73,
     "metadata": {},
     "output_type": "execute_result"
    }
   ],
   "source": [
    "# int로 변경\n",
    "table2.loc[['저장', '읽기', '변환'], table2.columns].astype(int).astype(str).map(lambda x: x + ' ms')\n"
   ]
  },
  {
   "cell_type": "code",
   "execution_count": null,
   "metadata": {},
   "outputs": [],
   "source": []
  }
 ],
 "metadata": {
  "kernelspec": {
   "display_name": "venv",
   "language": "python",
   "name": "python3"
  },
  "language_info": {
   "codemirror_mode": {
    "name": "ipython",
    "version": 3
   },
   "file_extension": ".py",
   "mimetype": "text/x-python",
   "name": "python",
   "nbconvert_exporter": "python",
   "pygments_lexer": "ipython3",
   "version": "3.11.6"
  }
 },
 "nbformat": 4,
 "nbformat_minor": 2
}
